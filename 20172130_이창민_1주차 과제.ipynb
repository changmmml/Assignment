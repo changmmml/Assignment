{
 "cells": [
  {
   "cell_type": "code",
   "execution_count": 16,
   "id": "d80595f7",
   "metadata": {},
   "outputs": [
    {
     "name": "stdout",
     "output_type": "stream",
     "text": [
      "3 7\n",
      "0.42857142857142857143\n"
     ]
    }
   ],
   "source": [
    "from decimal import Decimal\n",
    "a, b = input().split()\n",
    "print('{:.20f}'.format(Decimal(a)/Decimal(b)))"
   ]
  },
  {
   "cell_type": "code",
   "execution_count": 21,
   "id": "20a6b410",
   "metadata": {
    "scrolled": true
   },
   "outputs": [
    {
     "name": "stdout",
     "output_type": "stream",
     "text": [
      "200\n",
      "19\n"
     ]
    }
   ],
   "source": [
    "k = int(input())\n",
    "\n",
    "for i in range(1, k):\n",
    "    if i > k:\n",
    "        break\n",
    "    k -= i\n",
    "    Max = i\n",
    "\n",
    "print(Max)"
   ]
  },
  {
   "cell_type": "code",
   "execution_count": null,
   "id": "38bcac1b",
   "metadata": {},
   "outputs": [],
   "source": []
  },
  {
   "cell_type": "code",
   "execution_count": null,
   "id": "35edb140",
   "metadata": {},
   "outputs": [],
   "source": [
    "a, b = tuple(map(int, input().split()))\n",
    "\n",
    "# 정수 부분을 먼저 출력합니다.\n",
    "print(f\"{a//b}.\", end=\"\")\n",
    "\n",
    "# a를 b로 나눈 나머지를 시작으로\n",
    "# 소수점 자리를 하나씩 계산합니다.\n",
    "a %= b\n",
    "for _ in range(20):\n",
    "    # 나머지에 10 곱한 값을 기준으로\n",
    "    # b로 나누었을 떄의 몫을 구해줍니다.\n",
    "    a *= 10\n",
    "    print(a // b, end=\"\")\n",
    "\n",
    "    # a를 b로 나눈 나머지를 게속 갱신해줍니다.\n",
    "    a %= b"
   ]
  },
  {
   "cell_type": "code",
   "execution_count": null,
   "id": "b3dbd32b",
   "metadata": {},
   "outputs": [],
   "source": [
    "s = int(input())\n",
    "n = 1\n",
    "while n * (n + 1) / 2 <= s:\n",
    "    n += 1\n",
    "print(n - 1)"
   ]
  },
  {
   "cell_type": "code",
   "execution_count": null,
   "id": "40718533",
   "metadata": {},
   "outputs": [],
   "source": [
    "n = int(input())\n",
    "arr = []\n",
    "#입력 받는 부분\n",
    "for _ in range(n):\n",
    "    #입력받은 값을 공백을 기준으로 split, 자료형을 int로 변환, list로 형변환, li에 저장\n",
    "    li = list(map(int,input().split()))\n",
    "    #arr에 li를 복사 -list명.append(추가할 변수)\n",
    "    arr.append(li)\n",
    "\n",
    "tmp = []\n",
    "result = []\n",
    "\n",
    "#마지막 2*2가 나올 때 까지 반복문 실행\n",
    "while len(arr)!= 2:\n",
    "    result = []\n",
    "    #현재 row의 길이를 알려줌\n",
    "    len_of_row = len(arr)\n",
    "    \n",
    "    for row in range(0, len_of_row-1, 2): #Stride = 2, 2칸씩 뛰어넘어감\n",
    "        for col in range(0, len_of_row-1, 2): #Stride = 2, 2칸씩 뛰어넘어감\n",
    "        #-1을 해주는 이유는 마지막 Filter가 돌 때 Index out of range Error을 뛰어넘기위해\n",
    "            \n",
    "            filter = [] # 2*2크기의 필터 순회\n",
    "            for f_row in range(row, row+2):\n",
    "                for f_col in range(col, col+2):\n",
    "                    filter.append(arr[f_row][f_col])\n",
    "            \n",
    "            #필터를 돌아서 나온 값 저장 후 2번째로 큰 값만 추출해서 저장\n",
    "            tmp.append(sorted(filter)[-2])\n",
    "            \n",
    "            #n*n크기가 (n//2)*(n//2)가 될 수 있게 조절\n",
    "            if len(tmp%(len_of_row//2)) == 0:\n",
    "                result.append(tmp)\n",
    "                tmp = []\n",
    "        \n",
    "    arr = result\n",
    "\n",
    "pred = []\n",
    "for element in arr:\n",
    "    for e in element:\n",
    "        pred.append(e)\n",
    "print(sorted(pred)[-2])"
   ]
  }
 ],
 "metadata": {
  "kernelspec": {
   "display_name": "Python 3 (ipykernel)",
   "language": "python",
   "name": "python3"
  },
  "language_info": {
   "codemirror_mode": {
    "name": "ipython",
    "version": 3
   },
   "file_extension": ".py",
   "mimetype": "text/x-python",
   "name": "python",
   "nbconvert_exporter": "python",
   "pygments_lexer": "ipython3",
   "version": "3.9.7"
  }
 },
 "nbformat": 4,
 "nbformat_minor": 5
}
